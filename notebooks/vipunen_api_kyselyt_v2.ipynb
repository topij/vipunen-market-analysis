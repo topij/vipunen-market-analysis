{
 "cells": [
  {
   "cell_type": "code",
   "execution_count": 1,
   "metadata": {},
   "outputs": [],
   "source": [
    "import requests\n",
    "import pandas as pd\n",
    "from pathlib import Path\n",
    "import shutil\n",
    "from datetime import datetime\n"
   ]
  },
  {
   "cell_type": "code",
   "execution_count": 2,
   "metadata": {},
   "outputs": [],
   "source": [
    "import FileUtils as FileUtils\n"
   ]
  },
  {
   "cell_type": "code",
   "execution_count": null,
   "metadata": {},
   "outputs": [],
   "source": [
    "\n"
   ]
  },
  {
   "cell_type": "code",
   "execution_count": 3,
   "metadata": {},
   "outputs": [],
   "source": [
    "\n",
    "# Constants and configurations\n",
    "DATASET = 'amm_opiskelijat_ja_tutkinnot_vuosi_tutkinto'\n",
    "LIMIT = 5000\n",
    "MAX_RETRIES = 3\n",
    "BASE_URL = f\"https://api.vipunen.fi/api/resources/{DATASET}/data?limit={LIMIT}&offset=\"\n",
    "COUNT_URL = f\"https://api.vipunen.fi/api/resources/{DATASET}/data/count\"\n",
    "HEADERS = {\n",
    "    \"Content-Type\": \"application/json\",\n",
    "    \"Accept\": \"application/json\",\n",
    "    \"Caller-Id\": \"0201689-0.rastor-instituutti\"\n",
    "}\n",
    "\n",
    "DATA_DIR = \"../data/raw\""
   ]
  },
  {
   "cell_type": "code",
   "execution_count": 4,
   "metadata": {},
   "outputs": [
    {
     "name": "stdout",
     "output_type": "stream",
     "text": [
      "Total rows to fetch: 60755\n",
      "Data fetching complete.\n",
      "Data saved to ..\\data\\raw\\amm_opiskelijat_ja_tutkinnot_vuosi_tutkinto.csv\n"
     ]
    }
   ],
   "source": [
    "def backup_existing_file(file_path: Path):\n",
    "    \"\"\"\n",
    "    Backs up an existing file by moving it to a backup directory.\n",
    "\n",
    "    Args:\n",
    "        file_path (Path): The path to the file to be backed up.\n",
    "\n",
    "    Returns:\n",
    "        None\n",
    "    \"\"\"\n",
    "    if file_path.exists():\n",
    "        modified_date = datetime.fromtimestamp(file_path.stat().st_mtime).strftime('%Y-%m-%d')\n",
    "        backup_file_path = file_path.parent / f\"old_api_calls_output/{file_path.stem}_{modified_date}.csv\"\n",
    "        shutil.move(str(file_path), str(backup_file_path))\n",
    "\n",
    "def fetch_data(url):\n",
    "    \"\"\"\n",
    "    Fetches data from the specified URL using GET request.\n",
    "\n",
    "    Args:\n",
    "        url (str): The URL to fetch data from.\n",
    "\n",
    "    Returns:\n",
    "        dict: The JSON response from the URL.\n",
    "\n",
    "    Raises:\n",
    "        requests.RequestException: If an error occurs during the request.\n",
    "\n",
    "    \"\"\"\n",
    "    for attempt in range(MAX_RETRIES):\n",
    "        try:\n",
    "            response = requests.get(url, headers=HEADERS)\n",
    "            response.raise_for_status()\n",
    "            return response.json()\n",
    "        except requests.RequestException as e:\n",
    "            print(f\"Attempt {attempt+1}: {e}\")\n",
    "            if attempt == MAX_RETRIES - 1:\n",
    "                raise\n",
    "\n",
    "def save_data(data, file_path, mode='a'):\n",
    "    \"\"\"\n",
    "    Save data to a CSV file.\n",
    "\n",
    "    Parameters:\n",
    "    - data: The data to be saved. It should be a list of dictionaries or a pandas DataFrame.\n",
    "    - file_path: The file path where the data will be saved.\n",
    "    - mode: The file mode. Default is 'a' (append), but can also be 'w' (write).\n",
    "\n",
    "    Returns:\n",
    "    None\n",
    "    \"\"\"\n",
    "    header = (mode == 'w')\n",
    "    df = pd.DataFrame(data)\n",
    "    df.to_csv(file_path, mode=mode, sep=';', na_rep='', header=header, \n",
    "              index=False, encoding='utf-8', quoting=0, quotechar='\"', lineterminator=\"\\n\", escapechar=\"$\")\n",
    "\n",
    "def main(directory, dataset):\n",
    "    \"\"\"\n",
    "    Fetches data from an API and saves it to a CSV file.\n",
    "\n",
    "    Args:\n",
    "        directory (str): The directory where the CSV file will be saved.\n",
    "        dataset (str): The name of the dataset.\n",
    "\n",
    "    Returns:\n",
    "        None\n",
    "    \"\"\"\n",
    "    file_path = Path(directory) / f\"{dataset}.csv\"\n",
    "    backup_existing_file(file_path)\n",
    "\n",
    "    max_rows = requests.get(COUNT_URL, headers=HEADERS).json()\n",
    "    print(f\"Total rows to fetch: {max_rows}\")\n",
    "\n",
    "    mode = 'w'\n",
    "    for offset in range(0, max_rows, LIMIT):\n",
    "        data = fetch_data(BASE_URL + str(offset))\n",
    "        save_data(data, file_path, mode=mode)\n",
    "        mode = 'a'  # Switch to append mode after first write\n",
    "\n",
    "    print(\"Data fetching complete.\")\n",
    "    print(f\"Data saved to {file_path}\")\n",
    "\n",
    "# Example usage\n",
    "main(DATA_DIR, DATASET)\n"
   ]
  },
  {
   "cell_type": "code",
   "execution_count": null,
   "metadata": {},
   "outputs": [],
   "source": []
  }
 ],
 "metadata": {
  "kernelspec": {
   "display_name": "vipunen-analytics",
   "language": "python",
   "name": "python3"
  },
  "language_info": {
   "codemirror_mode": {
    "name": "ipython",
    "version": 3
   },
   "file_extension": ".py",
   "mimetype": "text/x-python",
   "name": "python",
   "nbconvert_exporter": "python",
   "pygments_lexer": "ipython3",
   "version": "3.9.21"
  }
 },
 "nbformat": 4,
 "nbformat_minor": 2
}
